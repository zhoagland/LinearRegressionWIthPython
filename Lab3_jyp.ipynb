{
 "cells": [
  {
   "cell_type": "code",
   "execution_count": 2,
   "metadata": {},
   "outputs": [],
   "source": [
    "from IPython.display import HTML, display\n",
    "import statsmodels.api as sm\n",
    "from statsmodels.formula.api import ols\n",
    "from statsmodels.sandbox.regression.predstd import wls_prediction_std\n",
    "import matplotlib.pyplot as plt\n",
    "import seaborn as sns\n",
    "%matplotlib inline\n",
    "sns.set_style(\"darkgrid\")\n",
    "import pandas as pd\n",
    "import numpy as np\n",
    "import scipy as sc\n",
    "\n",
    "housing_price_index = pd.read_csv('monthly-hpi.csv')\n",
    "unemployment = pd.read_csv('unemployment-macro.csv')\n",
    "federal_funds_rate = pd.read_csv('fed_funds.csv')\n",
    "shiller = pd.read_csv('shiller.csv')\n",
    "gross_domestic_product = pd.read_csv('gdp.csv')\n"
   ]
  },
  {
   "cell_type": "code",
   "execution_count": 4,
   "metadata": {},
   "outputs": [],
   "source": [
    "# merge dataframes into single dataframe by date\n",
    "df = (shiller.merge(housing_price_index, on='date')\n",
    "    .merge(unemployment, on='date')\n",
    "    .merge(federal_funds_rate, on='date')\n",
    "    .merge(gross_domestic_product, on='date'))\n"
   ]
  },
  {
   "cell_type": "code",
   "execution_count": 5,
   "metadata": {},
   "outputs": [
    {
     "data": {
      "text/plain": [
       "<bound method NDFrame.head of          date    sp500  consumer_price_index  long_interest_rate  \\\n",
       "0    1/1/2011  1282.62                220.22                3.39   \n",
       "1    4/1/2011  1331.51                224.91                3.46   \n",
       "2    7/1/2011  1325.19                225.92                3.00   \n",
       "3   10/1/2011  1207.22                226.42                2.15   \n",
       "4    1/1/2012  1300.58                226.66                1.97   \n",
       "5    4/1/2012  1386.43                230.09                2.05   \n",
       "6    7/1/2012  1359.78                229.10                1.53   \n",
       "7   10/1/2012  1437.82                231.32                1.75   \n",
       "8    1/1/2013  1480.40                230.28                1.91   \n",
       "9    4/1/2013  1570.70                232.53                1.76   \n",
       "10   7/1/2013  1668.68                233.60                2.58   \n",
       "11  10/1/2013  1720.03                233.55                2.62   \n",
       "12   1/1/2014  1822.36                233.92                2.86   \n",
       "13   4/1/2014  1864.26                237.07                2.71   \n",
       "14   7/1/2014  1973.10                238.25                2.54   \n",
       "15  10/1/2014  1937.27                237.43                2.30   \n",
       "16   1/1/2015  2028.18                233.71                1.88   \n",
       "17   4/1/2015  2094.86                236.60                1.94   \n",
       "18   7/1/2015  2094.14                238.65                2.32   \n",
       "19  10/1/2015  2024.81                237.84                2.07   \n",
       "20   1/1/2016  1918.60                236.92                2.09   \n",
       "21   4/1/2016  2075.54                239.26                1.81   \n",
       "22   7/1/2016  2148.90                240.65                1.50   \n",
       "\n",
       "    housing_price_index  total_unemployed  more_than_15_weeks  \\\n",
       "0                181.35              16.2                8393   \n",
       "1                180.80              16.1                8016   \n",
       "2                184.25              15.9                8177   \n",
       "3                181.51              15.8                7802   \n",
       "4                179.13              15.2                7433   \n",
       "5                185.29              14.6                7072   \n",
       "6                190.39              14.8                6983   \n",
       "7                190.84              14.4                6784   \n",
       "8                190.50              14.5                6534   \n",
       "9                198.43              14.0                6345   \n",
       "10               205.77              13.8                6073   \n",
       "11               205.44              13.6                5807   \n",
       "12               204.04              12.7                5309   \n",
       "13               210.00              12.3                4944   \n",
       "14               215.58              12.2                4602   \n",
       "15               214.88              11.5                4308   \n",
       "16               214.16              11.3                4180   \n",
       "17               221.71              10.8                3644   \n",
       "18               227.98              10.3                3359   \n",
       "19               227.71               9.8                3344   \n",
       "20               227.45               9.9                3234   \n",
       "21               235.18               9.7                3340   \n",
       "22               241.59               9.7                3175   \n",
       "\n",
       "    not_in_labor_searched_for_work  multi_jobs  leavers  losers  \\\n",
       "0                             2800        6816      6.5    60.1   \n",
       "1                             2466        6823      6.8    59.4   \n",
       "2                             2785        6850      6.8    59.2   \n",
       "3                             2555        6917      8.0    57.9   \n",
       "4                             2809        7022      7.4    57.1   \n",
       "5                             2363        6903      8.0    54.2   \n",
       "6                             2529        6916      6.9    56.2   \n",
       "7                             2433        6888      8.5    53.8   \n",
       "8                             2443        6912      8.1    53.7   \n",
       "9                             2347        7007      7.5    54.3   \n",
       "10                            2414        7105      8.5    51.8   \n",
       "11                            2283        6863      7.5    54.8   \n",
       "12                            2592        6845      8.0    52.8   \n",
       "13                            2160        7165      8.2    53.6   \n",
       "14                            2178        7006      8.9    49.6   \n",
       "15                            2192        7577      8.6    48.1   \n",
       "16                            2234        7454      9.7    47.7   \n",
       "17                            2115        7016      9.7    48.7   \n",
       "18                            1927        7239     10.4    49.6   \n",
       "19                            1916        7377      9.7    49.7   \n",
       "20                            2089        7470      9.9    47.6   \n",
       "21                            1715        7416     10.9    48.8   \n",
       "22                            1950        7442     10.9    48.4   \n",
       "\n",
       "    federal_funds_rate  total_expenditures  labor_force_pr  \\\n",
       "0                 0.17              5766.7            64.2   \n",
       "1                 0.10              5870.8            64.2   \n",
       "2                 0.07              5802.6            64.0   \n",
       "3                 0.07              5812.9            64.1   \n",
       "4                 0.08              5765.7            63.7   \n",
       "5                 0.14              5771.2            63.7   \n",
       "6                 0.16              5745.4            63.7   \n",
       "7                 0.16              5841.4            63.8   \n",
       "8                 0.14              5748.0            63.6   \n",
       "9                 0.15              5756.8            63.4   \n",
       "10                0.09              5777.7            63.3   \n",
       "11                0.09              5776.0            62.8   \n",
       "12                0.07              5820.1            62.9   \n",
       "13                0.09              5882.6            62.8   \n",
       "14                0.09              5937.3            62.9   \n",
       "15                0.09              5956.1            62.9   \n",
       "16                0.11              5963.0            62.9   \n",
       "17                0.12              5978.7            62.8   \n",
       "18                0.13              6157.8            62.6   \n",
       "19                0.12              6146.6            62.5   \n",
       "20                0.34              6219.7            62.7   \n",
       "21                0.37              6219.3            62.8   \n",
       "22                0.39              6307.5            62.8   \n",
       "\n",
       "    producer_price_index  gross_domestic_product  \n",
       "0                  192.7                 14881.3  \n",
       "1                  203.1                 14989.6  \n",
       "2                  204.6                 15021.1  \n",
       "3                  201.1                 15190.3  \n",
       "4                  200.7                 15291.0  \n",
       "5                  203.7                 15362.4  \n",
       "6                  200.1                 15380.8  \n",
       "7                  203.5                 15384.3  \n",
       "8                  202.5                 15491.9  \n",
       "9                  203.5                 15521.6  \n",
       "10                 204.4                 15641.3  \n",
       "11                 202.5                 15793.9  \n",
       "12                 203.8                 15747.0  \n",
       "13                 208.3                 15900.8  \n",
       "14                 208.0                 16094.5  \n",
       "15                 203.4                 16186.7  \n",
       "16                 192.0                 16269.0  \n",
       "17                 190.9                 16374.2  \n",
       "18                 193.9                 16454.9  \n",
       "19                 187.5                 16490.7  \n",
       "20                 182.6                 16525.0  \n",
       "21                 183.2                 16583.1  \n",
       "22                 187.7                 16727.0  >"
      ]
     },
     "execution_count": 5,
     "metadata": {},
     "output_type": "execute_result"
    }
   ],
   "source": [
    "df.head"
   ]
  },
  {
   "cell_type": "code",
   "execution_count": 6,
   "metadata": {},
   "outputs": [
    {
     "data": {
      "text/html": [
       "<div>\n",
       "<style scoped>\n",
       "    .dataframe tbody tr th:only-of-type {\n",
       "        vertical-align: middle;\n",
       "    }\n",
       "\n",
       "    .dataframe tbody tr th {\n",
       "        vertical-align: top;\n",
       "    }\n",
       "\n",
       "    .dataframe thead th {\n",
       "        text-align: right;\n",
       "    }\n",
       "</style>\n",
       "<table border=\"1\" class=\"dataframe\">\n",
       "  <thead>\n",
       "    <tr style=\"text-align: right;\">\n",
       "      <th></th>\n",
       "      <th>sp500</th>\n",
       "      <th>consumer_price_index</th>\n",
       "      <th>long_interest_rate</th>\n",
       "      <th>housing_price_index</th>\n",
       "      <th>total_unemployed</th>\n",
       "      <th>more_than_15_weeks</th>\n",
       "      <th>not_in_labor_searched_for_work</th>\n",
       "      <th>multi_jobs</th>\n",
       "      <th>leavers</th>\n",
       "      <th>losers</th>\n",
       "      <th>federal_funds_rate</th>\n",
       "      <th>total_expenditures</th>\n",
       "      <th>labor_force_pr</th>\n",
       "      <th>producer_price_index</th>\n",
       "      <th>gross_domestic_product</th>\n",
       "    </tr>\n",
       "  </thead>\n",
       "  <tbody>\n",
       "    <tr>\n",
       "      <th>count</th>\n",
       "      <td>23.000000</td>\n",
       "      <td>23.000000</td>\n",
       "      <td>23.00000</td>\n",
       "      <td>23.000000</td>\n",
       "      <td>23.000000</td>\n",
       "      <td>23.000000</td>\n",
       "      <td>23.000000</td>\n",
       "      <td>23.000000</td>\n",
       "      <td>23.000000</td>\n",
       "      <td>23.000000</td>\n",
       "      <td>23.000000</td>\n",
       "      <td>23.000000</td>\n",
       "      <td>23.000000</td>\n",
       "      <td>23.000000</td>\n",
       "      <td>23.000000</td>\n",
       "    </tr>\n",
       "    <tr>\n",
       "      <th>mean</th>\n",
       "      <td>1697.955652</td>\n",
       "      <td>232.821739</td>\n",
       "      <td>2.26913</td>\n",
       "      <td>204.955652</td>\n",
       "      <td>13.004348</td>\n",
       "      <td>5602.521739</td>\n",
       "      <td>2317.173913</td>\n",
       "      <td>7088.217391</td>\n",
       "      <td>8.495652</td>\n",
       "      <td>52.917391</td>\n",
       "      <td>0.145217</td>\n",
       "      <td>5914.082609</td>\n",
       "      <td>63.265217</td>\n",
       "      <td>198.421739</td>\n",
       "      <td>15795.756522</td>\n",
       "    </tr>\n",
       "    <tr>\n",
       "      <th>std</th>\n",
       "      <td>322.596751</td>\n",
       "      <td>5.405947</td>\n",
       "      <td>0.54516</td>\n",
       "      <td>19.364036</td>\n",
       "      <td>2.267052</td>\n",
       "      <td>1801.301143</td>\n",
       "      <td>294.338187</td>\n",
       "      <td>248.798742</td>\n",
       "      <td>1.316496</td>\n",
       "      <td>4.059854</td>\n",
       "      <td>0.093121</td>\n",
       "      <td>176.572817</td>\n",
       "      <td>0.561337</td>\n",
       "      <td>7.786875</td>\n",
       "      <td>571.226411</td>\n",
       "    </tr>\n",
       "    <tr>\n",
       "      <th>min</th>\n",
       "      <td>1207.220000</td>\n",
       "      <td>220.220000</td>\n",
       "      <td>1.50000</td>\n",
       "      <td>179.130000</td>\n",
       "      <td>9.700000</td>\n",
       "      <td>3175.000000</td>\n",
       "      <td>1715.000000</td>\n",
       "      <td>6816.000000</td>\n",
       "      <td>6.500000</td>\n",
       "      <td>47.600000</td>\n",
       "      <td>0.070000</td>\n",
       "      <td>5745.400000</td>\n",
       "      <td>62.500000</td>\n",
       "      <td>182.600000</td>\n",
       "      <td>14881.300000</td>\n",
       "    </tr>\n",
       "    <tr>\n",
       "      <th>25%</th>\n",
       "      <td>1373.105000</td>\n",
       "      <td>229.595000</td>\n",
       "      <td>1.89500</td>\n",
       "      <td>187.840000</td>\n",
       "      <td>11.050000</td>\n",
       "      <td>3912.000000</td>\n",
       "      <td>2137.500000</td>\n",
       "      <td>6895.500000</td>\n",
       "      <td>7.500000</td>\n",
       "      <td>49.200000</td>\n",
       "      <td>0.090000</td>\n",
       "      <td>5773.600000</td>\n",
       "      <td>62.800000</td>\n",
       "      <td>192.350000</td>\n",
       "      <td>15371.600000</td>\n",
       "    </tr>\n",
       "    <tr>\n",
       "      <th>50%</th>\n",
       "      <td>1720.030000</td>\n",
       "      <td>233.600000</td>\n",
       "      <td>2.09000</td>\n",
       "      <td>205.440000</td>\n",
       "      <td>13.600000</td>\n",
       "      <td>5807.000000</td>\n",
       "      <td>2347.000000</td>\n",
       "      <td>7007.000000</td>\n",
       "      <td>8.200000</td>\n",
       "      <td>53.600000</td>\n",
       "      <td>0.120000</td>\n",
       "      <td>5841.400000</td>\n",
       "      <td>62.900000</td>\n",
       "      <td>202.500000</td>\n",
       "      <td>15747.000000</td>\n",
       "    </tr>\n",
       "    <tr>\n",
       "      <th>75%</th>\n",
       "      <td>1998.955000</td>\n",
       "      <td>237.250000</td>\n",
       "      <td>2.60000</td>\n",
       "      <td>218.645000</td>\n",
       "      <td>14.700000</td>\n",
       "      <td>7027.500000</td>\n",
       "      <td>2497.500000</td>\n",
       "      <td>7308.000000</td>\n",
       "      <td>9.700000</td>\n",
       "      <td>55.500000</td>\n",
       "      <td>0.155000</td>\n",
       "      <td>5970.850000</td>\n",
       "      <td>63.700000</td>\n",
       "      <td>203.600000</td>\n",
       "      <td>16321.600000</td>\n",
       "    </tr>\n",
       "    <tr>\n",
       "      <th>max</th>\n",
       "      <td>2148.900000</td>\n",
       "      <td>240.650000</td>\n",
       "      <td>3.46000</td>\n",
       "      <td>241.590000</td>\n",
       "      <td>16.200000</td>\n",
       "      <td>8393.000000</td>\n",
       "      <td>2809.000000</td>\n",
       "      <td>7577.000000</td>\n",
       "      <td>10.900000</td>\n",
       "      <td>60.100000</td>\n",
       "      <td>0.390000</td>\n",
       "      <td>6307.500000</td>\n",
       "      <td>64.200000</td>\n",
       "      <td>208.300000</td>\n",
       "      <td>16727.000000</td>\n",
       "    </tr>\n",
       "  </tbody>\n",
       "</table>\n",
       "</div>"
      ],
      "text/plain": [
       "             sp500  consumer_price_index  long_interest_rate  \\\n",
       "count    23.000000             23.000000            23.00000   \n",
       "mean   1697.955652            232.821739             2.26913   \n",
       "std     322.596751              5.405947             0.54516   \n",
       "min    1207.220000            220.220000             1.50000   \n",
       "25%    1373.105000            229.595000             1.89500   \n",
       "50%    1720.030000            233.600000             2.09000   \n",
       "75%    1998.955000            237.250000             2.60000   \n",
       "max    2148.900000            240.650000             3.46000   \n",
       "\n",
       "       housing_price_index  total_unemployed  more_than_15_weeks  \\\n",
       "count            23.000000         23.000000           23.000000   \n",
       "mean            204.955652         13.004348         5602.521739   \n",
       "std              19.364036          2.267052         1801.301143   \n",
       "min             179.130000          9.700000         3175.000000   \n",
       "25%             187.840000         11.050000         3912.000000   \n",
       "50%             205.440000         13.600000         5807.000000   \n",
       "75%             218.645000         14.700000         7027.500000   \n",
       "max             241.590000         16.200000         8393.000000   \n",
       "\n",
       "       not_in_labor_searched_for_work   multi_jobs    leavers     losers  \\\n",
       "count                       23.000000    23.000000  23.000000  23.000000   \n",
       "mean                      2317.173913  7088.217391   8.495652  52.917391   \n",
       "std                        294.338187   248.798742   1.316496   4.059854   \n",
       "min                       1715.000000  6816.000000   6.500000  47.600000   \n",
       "25%                       2137.500000  6895.500000   7.500000  49.200000   \n",
       "50%                       2347.000000  7007.000000   8.200000  53.600000   \n",
       "75%                       2497.500000  7308.000000   9.700000  55.500000   \n",
       "max                       2809.000000  7577.000000  10.900000  60.100000   \n",
       "\n",
       "       federal_funds_rate  total_expenditures  labor_force_pr  \\\n",
       "count           23.000000           23.000000       23.000000   \n",
       "mean             0.145217         5914.082609       63.265217   \n",
       "std              0.093121          176.572817        0.561337   \n",
       "min              0.070000         5745.400000       62.500000   \n",
       "25%              0.090000         5773.600000       62.800000   \n",
       "50%              0.120000         5841.400000       62.900000   \n",
       "75%              0.155000         5970.850000       63.700000   \n",
       "max              0.390000         6307.500000       64.200000   \n",
       "\n",
       "       producer_price_index  gross_domestic_product  \n",
       "count             23.000000               23.000000  \n",
       "mean             198.421739            15795.756522  \n",
       "std                7.786875              571.226411  \n",
       "min              182.600000            14881.300000  \n",
       "25%              192.350000            15371.600000  \n",
       "50%              202.500000            15747.000000  \n",
       "75%              203.600000            16321.600000  \n",
       "max              208.300000            16727.000000  "
      ]
     },
     "execution_count": 6,
     "metadata": {},
     "output_type": "execute_result"
    }
   ],
   "source": [
    "df.describe()"
   ]
  },
  {
   "cell_type": "code",
   "execution_count": 7,
   "metadata": {},
   "outputs": [
    {
     "data": {
      "text/plain": [
       "count     23.000000\n",
       "mean     204.955652\n",
       "std       19.364036\n",
       "min      179.130000\n",
       "25%      187.840000\n",
       "50%      205.440000\n",
       "75%      218.645000\n",
       "max      241.590000\n",
       "Name: housing_price_index, dtype: float64"
      ]
     },
     "execution_count": 7,
     "metadata": {},
     "output_type": "execute_result"
    }
   ],
   "source": [
    "df['housing_price_index'].describe()#housing_price_index is dependent variable\n"
   ]
  },
  {
   "cell_type": "code",
   "execution_count": 8,
   "metadata": {},
   "outputs": [
    {
     "data": {
      "text/plain": [
       "count    23.00000\n",
       "mean      2.26913\n",
       "std       0.54516\n",
       "min       1.50000\n",
       "25%       1.89500\n",
       "50%       2.09000\n",
       "75%       2.60000\n",
       "max       3.46000\n",
       "Name: long_interest_rate, dtype: float64"
      ]
     },
     "execution_count": 8,
     "metadata": {},
     "output_type": "execute_result"
    }
   ],
   "source": [
    "df['long_interest_rate'].describe()\n"
   ]
  },
  {
   "cell_type": "code",
   "execution_count": 9,
   "metadata": {},
   "outputs": [
    {
     "data": {
      "text/plain": [
       "count    23.000000\n",
       "mean     13.004348\n",
       "std       2.267052\n",
       "min       9.700000\n",
       "25%      11.050000\n",
       "50%      13.600000\n",
       "75%      14.700000\n",
       "max      16.200000\n",
       "Name: total_unemployed, dtype: float64"
      ]
     },
     "execution_count": 9,
     "metadata": {},
     "output_type": "execute_result"
    }
   ],
   "source": [
    "df['total_unemployed'].describe()\n"
   ]
  },
  {
   "cell_type": "code",
   "execution_count": 10,
   "metadata": {},
   "outputs": [
    {
     "data": {
      "text/plain": [
       "count       23.000000\n",
       "mean     15795.756522\n",
       "std        571.226411\n",
       "min      14881.300000\n",
       "25%      15371.600000\n",
       "50%      15747.000000\n",
       "75%      16321.600000\n",
       "max      16727.000000\n",
       "Name: gross_domestic_product, dtype: float64"
      ]
     },
     "execution_count": 10,
     "metadata": {},
     "output_type": "execute_result"
    }
   ],
   "source": [
    "df['gross_domestic_product'].describe()"
   ]
  },
  {
   "cell_type": "code",
   "execution_count": 11,
   "metadata": {
    "scrolled": true
   },
   "outputs": [
    {
     "name": "stdout",
     "output_type": "stream",
     "text": [
      "-0.3538174823019483 0.09766110342992321\n"
     ]
    },
    {
     "data": {
      "image/png": "[encoded data removed]",
      "text/plain": [
       "<Figure size 432x288 with 1 Axes>"
      ]
     },
     "metadata": {},
     "output_type": "display_data"
    }
   ],
   "source": [
    "sns.regplot(x='long_interest_rate',y='housing_price_index', data=df)\n",
    "Pearson_coef_LIR,p_value_LIR = sc.stats.pearsonr(df['long_interest_rate'],df['housing_price_index'])\n",
    "print(Pearson_coef_LIR,p_value_LIR)"
   ]
  },
  {
   "cell_type": "code",
   "execution_count": 12,
   "metadata": {},
   "outputs": [
    {
     "name": "stdout",
     "output_type": "stream",
     "text": [
      "-0.9755166787221856 2.7118044781654972e-15\n"
     ]
    },
    {
     "data": {
      "image/png": "[encoded data removed]",
      "text/plain": [
       "<Figure size 432x288 with 1 Axes>"
      ]
     },
     "metadata": {},
     "output_type": "display_data"
    }
   ],
   "source": [
    "sns.regplot(x='total_unemployed',y='housing_price_index', data=df)\n",
    "Pearson_coef_TU,p_value_TU = sc.stats.pearsonr(df['total_unemployed'],df['housing_price_index'])\n",
    "print(Pearson_coef_TU,p_value_TU)"
   ]
  },
  {
   "cell_type": "code",
   "execution_count": 13,
   "metadata": {},
   "outputs": [
    {
     "name": "stdout",
     "output_type": "stream",
     "text": [
      "0.9769601538044199 1.4417902242942918e-15\n"
     ]
    },
    {
     "data": {
      "image/png": "[encoded data removed]",
      "text/plain": [
       "<Figure size 432x288 with 1 Axes>"
      ]
     },
     "metadata": {},
     "output_type": "display_data"
    }
   ],
   "source": [
    "sns.regplot(x='gross_domestic_product',y='housing_price_index', data=df)\n",
    "Pearson_coef_GDP,p_value_GDP = sc.stats.pearsonr(df['gross_domestic_product'],df['housing_price_index'])\n",
    "print(Pearson_coef_GDP,p_value_GDP)"
   ]
  },
  {
   "cell_type": "code",
   "execution_count": 14,
   "metadata": {},
   "outputs": [
    {
     "data": {
      "text/html": [
       "<table class=\"simpletable\">\n",
       "<caption>OLS Regression Results</caption>\n",
       "<tr>\n",
       "  <th>Dep. Variable:</th>    <td>housing_price_index</td> <th>  R-squared:         </th> <td>   0.952</td>\n",
       "</tr>\n",
       "<tr>\n",
       "  <th>Model:</th>                    <td>OLS</td>         <th>  Adj. R-squared:    </th> <td>   0.949</td>\n",
       "</tr>\n",
       "<tr>\n",
       "  <th>Method:</th>              <td>Least Squares</td>    <th>  F-statistic:       </th> <td>   413.2</td>\n",
       "</tr>\n",
       "<tr>\n",
       "  <th>Date:</th>              <td>Thu, 04 Jun 2020</td>   <th>  Prob (F-statistic):</th> <td>2.71e-15</td>\n",
       "</tr>\n",
       "<tr>\n",
       "  <th>Time:</th>                  <td>08:47:47</td>       <th>  Log-Likelihood:    </th> <td> -65.450</td>\n",
       "</tr>\n",
       "<tr>\n",
       "  <th>No. Observations:</th>       <td>    23</td>        <th>  AIC:               </th> <td>   134.9</td>\n",
       "</tr>\n",
       "<tr>\n",
       "  <th>Df Residuals:</th>           <td>    21</td>        <th>  BIC:               </th> <td>   137.2</td>\n",
       "</tr>\n",
       "<tr>\n",
       "  <th>Df Model:</th>               <td>     1</td>        <th>                     </th>     <td> </td>   \n",
       "</tr>\n",
       "<tr>\n",
       "  <th>Covariance Type:</th>       <td>nonrobust</td>      <th>                     </th>     <td> </td>   \n",
       "</tr>\n",
       "</table>\n",
       "<table class=\"simpletable\">\n",
       "<tr>\n",
       "          <td></td>            <th style=\"backgroundcolor:#ffbb78;\">coef</th>     <th style=\"backgroundcolor:#c7e9c0;\">std err</th>      <th>t</th>      <th style=\"backgroundcolor:#bcbddc;\">P>|t|</th>  <th>[0.025</th>    <th>0.975]</th>  \n",
       "</tr>\n",
       "<tr>\n",
       "  <th>Intercept</th>        <td>  313.3128</td> <td>    5.408</td> <td>   57.938</td> <td> 0.000</td> <td>  302.067</td> <td>  324.559</td>\n",
       "</tr>\n",
       "<tr>\n",
       "  <th>total_unemployed</th> <td>   -8.3324</td> <td>    0.410</td> <td>  -20.327</td> <td> 0.000</td> <td>   -9.185</td> <td>   -7.480</td>\n",
       "</tr>\n",
       "</table>\n",
       "<table class=\"simpletable\">\n",
       "<tr>\n",
       "  <th>Omnibus:</th>       <td> 0.492</td> <th>  Durbin-Watson:     </th> <td>   1.126</td>\n",
       "</tr>\n",
       "<tr>\n",
       "  <th>Prob(Omnibus):</th> <td> 0.782</td> <th>  Jarque-Bera (JB):  </th> <td>   0.552</td>\n",
       "</tr>\n",
       "<tr>\n",
       "  <th>Skew:</th>          <td> 0.294</td> <th>  Prob(JB):          </th> <td>   0.759</td>\n",
       "</tr>\n",
       "<tr>\n",
       "  <th>Kurtosis:</th>      <td> 2.521</td> <th>  Cond. No.          </th> <td>    78.9</td>\n",
       "</tr>\n",
       "</table><br/><br/>Warnings:<br/>[1] Standard Errors assume that the covariance matrix of the errors is correctly specified."
      ],
      "text/plain": [
       "<IPython.core.display.HTML object>"
      ]
     },
     "execution_count": 14,
     "metadata": {},
     "output_type": "execute_result"
    }
   ],
   "source": [
    "# fit our model with .fit() and show results\n",
    "# we use statsmodels' formula API to invoke the syntax below,\n",
    "housing_model = ols(\"housing_price_index ~ total_unemployed\",\n",
    "data=df).fit()\n",
    "# summarize our model\n",
    "housing_model_summary = housing_model.summary()\n",
    "# convert our table to HTML and add colors to headers for explanatory purposes\n",
    "# THIS HTML CODE IS A STYLISTIC CHOICE NOT A NECESSITY\n",
    "HTML(\n",
    "(housing_model_summary\n",
    " .as_html()\n",
    " .replace('<th> Adj. R-squared: </th>', '<thstyle=\"background-color:#aec7e8;\"> Adj. R-squared: </th>')\n",
    " .replace('<th>coef</th>', '<th style=\"backgroundcolor:#ffbb78;\">coef</th>')\n",
    " .replace('<th>std err</th>', '<th style=\"backgroundcolor:#c7e9c0;\">std err</th>')\n",
    " .replace('<th>P>|t|</th>', '<th style=\"backgroundcolor:#bcbddc;\">P>|t|</th>')\n",
    " .replace('<th>[0.025</th> <th>0.975]</th>', '<thstyle=\"background-color:#ff9896;\">[0.025</th> <thstyle=\"background-color:#ff9896;\">0.975]</th>'))\n",
    ")\n"
   ]
  },
  {
   "cell_type": "code",
   "execution_count": 20,
   "metadata": {},
   "outputs": [
    {
     "data": {
      "image/png": "[encoded data removed]",
      "text/plain": [
       "<Figure size 720x504 with 1 Axes>"
      ]
     },
     "metadata": {},
     "output_type": "display_data"
    }
   ],
   "source": [
    "# predictor variable (x) and dependent variable (y)\n",
    "x = df[['total_unemployed']]\n",
    "y = df[['housing_price_index']]\n",
    "# Retrieve our confidence interval values\n",
    "# _ is a dummy variable since we don't actually use it for\n",
    "# plotting but need it as a placeholder\n",
    "# wls_prediction_std(housing_model) returns 3 values\n",
    "_, confidence_interval_lower, confidence_interval_upper = wls_prediction_std(housing_model)\n",
    "fig, ax = plt.subplots(figsize=(10,7))\n",
    "# plot the dots\n",
    "# 'o' specifies the shape (circle), we can also use 'd'(diamonds), 's' (squares)\n",
    "ax.plot(x, y, 'o', label=\"data\")\n",
    "# plot the trend line\n",
    "# g-- and r-- specify the color to use\n",
    "ax.plot(x, housing_model.fittedvalues, 'g--.', label=\"OLS\")\n",
    "# plot upper and lower ci values\n",
    "ax.plot(x, confidence_interval_upper, 'r--')\n",
    "ax.plot(x, confidence_interval_lower, 'r--')\n",
    "# plot legend\n",
    "ax.legend(loc='best');\n"
   ]
  },
  {
   "cell_type": "code",
   "execution_count": null,
   "metadata": {},
   "outputs": [],
   "source": []
  }
 ],
 "metadata": {
  "kernelspec": {
   "display_name": "Python 3",
   "language": "python",
   "name": "python3"
  },
  "language_info": {
   "codemirror_mode": {
    "name": "ipython",
    "version": 3
   },
   "file_extension": ".py",
   "mimetype": "text/x-python",
   "name": "python",
   "nbconvert_exporter": "python",
   "pygments_lexer": "ipython3",
   "version": "3.7.6"
  }
 },
 "nbformat": 4,
 "nbformat_minor": 4
}
